{
 "cells": [
  {
   "cell_type": "code",
   "execution_count": 3,
   "metadata": {},
   "outputs": [],
   "source": [
    "import numpy as np"
   ]
  },
  {
   "cell_type": "code",
   "execution_count": 4,
   "metadata": {},
   "outputs": [
    {
     "name": "stdout",
     "output_type": "stream",
     "text": [
      "[ 1.  2.  3.  4.  5.  6.  7.  8.  9. 10.]\n"
     ]
    }
   ],
   "source": [
    "a = np.array([1, 2, 3, 4, 5, 6, 7, 8, 9, 10], dtype=float)\n",
    "print(a)"
   ]
  },
  {
   "cell_type": "code",
   "execution_count": 5,
   "metadata": {},
   "outputs": [
    {
     "name": "stdout",
     "output_type": "stream",
     "text": [
      "[[0 0 0]\n",
      " [0 0 0]\n",
      " [0 0 0]]\n"
     ]
    }
   ],
   "source": [
    "b = np.zeros((3, 3), dtype=int)\n",
    "print(b)"
   ]
  },
  {
   "cell_type": "code",
   "execution_count": 6,
   "metadata": {},
   "outputs": [
    {
     "name": "stdout",
     "output_type": "stream",
     "text": [
      "[[ 2  4  1  3  4]\n",
      " [ 4  5  9  3  2]\n",
      " [ 9  3  6  8  8]\n",
      " [ 5 10  9  6 10]\n",
      " [ 6  4  2  8  5]]\n"
     ]
    }
   ],
   "source": [
    "c = np.random.randint(1, 11, size=(5, 5))\n",
    "print(c)"
   ]
  },
  {
   "cell_type": "code",
   "execution_count": 7,
   "metadata": {},
   "outputs": [
    {
     "name": "stdout",
     "output_type": "stream",
     "text": [
      "[[0.98652408 0.46851783 0.69985476 0.36543625]\n",
      " [0.5261993  0.79912653 0.23741251 0.3769747 ]\n",
      " [0.40533172 0.37364519 0.13016794 0.14586706]\n",
      " [0.05203466 0.37956971 0.73697061 0.31715403]]\n"
     ]
    }
   ],
   "source": [
    "d = np.random.uniform(0, 1, size=(4, 4))\n",
    "print(d)"
   ]
  },
  {
   "cell_type": "code",
   "execution_count": 8,
   "metadata": {},
   "outputs": [
    {
     "name": "stdout",
     "output_type": "stream",
     "text": [
      "[ 3  1 10  1  9] [10  1  3  2 10]\n",
      "[13  2 13  3 19] [-7  0  7 -1 -1] [30  1 30  2 90]\n"
     ]
    }
   ],
   "source": [
    "e = np.random.randint(1, 11, size = 5 )\n",
    "f = np.random.randint(1, 11, size = 5 )\n",
    "print(e, f)\n",
    "sum_e_f = e + f\n",
    "diff_e_f = e - f\n",
    "e_times_f = e * f\n",
    "print(sum_e_f, diff_e_f, e_times_f)"
   ]
  },
  {
   "cell_type": "code",
   "execution_count": 9,
   "metadata": {},
   "outputs": [
    {
     "name": "stdout",
     "output_type": "stream",
     "text": [
      "[0.31699053 0.77508074 0.69396157 0.82685825 0.49739793 0.59859645\n",
      " 0.13176668] [0.11682647 0.92540963 0.26625678 0.11395162 0.2014124  0.85742923\n",
      " 0.01318262]\n",
      "1.6484671129986093\n"
     ]
    }
   ],
   "source": [
    "g = np.random.random(7)\n",
    "h = np.random.random(7)\n",
    "print(g, h)\n",
    "scal_g_times_h = np.dot(g, h)\n",
    "print(scal_g_times_h)"
   ]
  },
  {
   "cell_type": "code",
   "execution_count": 10,
   "metadata": {},
   "outputs": [
    {
     "name": "stdout",
     "output_type": "stream",
     "text": [
      "[[ 8  4]\n",
      " [ 3 10]] [[3 5 1]\n",
      " [8 3 4]]\n",
      "[[56 52 24]\n",
      " [89 45 43]]\n"
     ]
    }
   ],
   "source": [
    "i = np.random.randint(1, 11, size = (2, 2) )\n",
    "j = np.random.randint(1, 11, size = (2, 3) )\n",
    "print(i, j)\n",
    "i_times_j = np.dot(i, j)\n",
    "print( i_times_j )"
   ]
  },
  {
   "cell_type": "code",
   "execution_count": 11,
   "metadata": {},
   "outputs": [
    {
     "name": "stdout",
     "output_type": "stream",
     "text": [
      "[[7 8 6]\n",
      " [9 2 6]\n",
      " [1 6 3]]\n",
      "[[ 0.45454545 -0.18181818 -0.54545455]\n",
      " [ 0.31818182 -0.22727273 -0.18181818]\n",
      " [-0.78787879  0.51515152  0.87878788]]\n"
     ]
    }
   ],
   "source": [
    "k = np.random.randint(1, 11, size = (3, 3) )\n",
    "print(k)\n",
    "k_inv = np.linalg.inv(k)\n",
    "print(k_inv)"
   ]
  },
  {
   "cell_type": "code",
   "execution_count": 14,
   "metadata": {},
   "outputs": [
    {
     "name": "stdout",
     "output_type": "stream",
     "text": [
      "[[0.23686191 0.80765571 0.08129269 0.18058535]\n",
      " [0.00895435 0.43024446 0.92143021 0.74689414]\n",
      " [0.21418341 0.95675342 0.2469383  0.92205388]\n",
      " [0.80677006 0.58910161 0.55625021 0.7063523 ]]\n",
      "[[0.23686191 0.00895435 0.21418341 0.80677006]\n",
      " [0.80765571 0.43024446 0.95675342 0.58910161]\n",
      " [0.08129269 0.92143021 0.2469383  0.55625021]\n",
      " [0.18058535 0.74689414 0.92205388 0.7063523 ]]\n"
     ]
    }
   ],
   "source": [
    "l = np.random.uniform(0, 1, size = (4, 4))\n",
    "print(l)\n",
    "transformed_l = l.T\n",
    "print(transformed_l)"
   ]
  },
  {
   "cell_type": "code",
   "execution_count": 15,
   "metadata": {},
   "outputs": [
    {
     "name": "stdout",
     "output_type": "stream",
     "text": [
      "[[6.148415   2.67715766 6.86314526 1.86615705]\n",
      " [5.44870669 6.75008091 5.61711301 6.632202  ]\n",
      " [8.98557667 6.9896857  3.22564284 6.47182927]] [5.21148467 2.35105258 7.57071715 7.35365934]\n",
      "[104.01852361 135.56217452 135.27337095]\n"
     ]
    }
   ],
   "source": [
    "p = np.random.uniform(1, 11, size = (3,4))\n",
    "q = np.random.uniform(1, 11, size = 4)\n",
    "print(p, q)\n",
    "p_times_q = np.dot(p, q)\n",
    "print(p_times_q)"
   ]
  },
  {
   "cell_type": "code",
   "execution_count": 16,
   "metadata": {},
   "outputs": [
    {
     "name": "stdout",
     "output_type": "stream",
     "text": [
      "[[0.44631234 0.80650625 0.58889145]\n",
      " [0.74143455 0.25110045 0.62582188]] [0.20660505 0.02975572 0.18831203]\n",
      "[0.22710391 0.27850559]\n"
     ]
    }
   ],
   "source": [
    "p = np.random.uniform(0, 1, size = (2, 3))\n",
    "q = np.random.uniform(0, 1, size = 3)\n",
    "print(p, q)\n",
    "p_times_q = np.dot(p, q)\n",
    "print(p_times_q)"
   ]
  },
  {
   "cell_type": "code",
   "execution_count": 17,
   "metadata": {},
   "outputs": [
    {
     "name": "stdout",
     "output_type": "stream",
     "text": [
      "[[3.32049209 3.82197837]\n",
      " [7.56901741 6.58453297]] [[ 1.67289014  8.93032355]\n",
      " [10.17787757  1.11353964]]\n",
      "[[ 5.55481847 34.13150348]\n",
      " [77.03653255  7.33213848]]\n"
     ]
    }
   ],
   "source": [
    "r = np.random.uniform(1, 11, size = (2, 2))\n",
    "s = np.random.uniform(1, 11, size = (2, 2))\n",
    "print(r, s)\n",
    "r_times_s = r*s\n",
    "print(r_times_s)"
   ]
  },
  {
   "cell_type": "code",
   "execution_count": 18,
   "metadata": {},
   "outputs": [
    {
     "name": "stdout",
     "output_type": "stream",
     "text": [
      "[[5.6275192  8.61346719]\n",
      " [3.49788124 5.45708959]] [[7.90815087 7.5206732 ]\n",
      " [9.65051301 2.4107565 ]]\n",
      "[[127.62764806  63.08770484]\n",
      " [ 80.32548674  39.46213591]]\n"
     ]
    }
   ],
   "source": [
    "r = np.random.uniform(1, 11, size = (2, 2))\n",
    "s = np.random.uniform(1, 11, size = (2, 2))\n",
    "print(r, s)\n",
    "r_times_s = np.dot(r, s)\n",
    "print(r_times_s)"
   ]
  },
  {
   "cell_type": "code",
   "execution_count": 19,
   "metadata": {},
   "outputs": [
    {
     "name": "stdout",
     "output_type": "stream",
     "text": [
      "[[ 48.61790548  25.2808677   41.40240317  65.49734026  35.00371545]\n",
      " [  7.89529011  55.63615894  52.07851407  76.29899333  58.21987306]\n",
      " [ 53.94063755  21.61877297  69.99858307 100.8044941   99.32408154]\n",
      " [ 27.60522032  94.69397064  16.7349779   26.59915769  89.17961419]\n",
      " [ 91.72532576  46.94177913  22.99247176  72.28307283   6.79232936]]\n",
      "1307.1655503606382\n"
     ]
    }
   ],
   "source": [
    "t = np.random.uniform(1, 101, size = (5, 5))\n",
    "print(t)\n",
    "sum = 0\n",
    "for i in t:\n",
    "  for c in i:\n",
    "    sum += c\n",
    "print(sum)\n"
   ]
  },
  {
   "cell_type": "code",
   "execution_count": 20,
   "metadata": {},
   "outputs": [
    {
     "name": "stdout",
     "output_type": "stream",
     "text": [
      "[[ 3.15582702  6.57727285  6.56147427  4.96078298]\n",
      " [ 9.5011059   7.78855737  3.76015352  4.67606512]\n",
      " [ 1.74941379  4.97783443  9.22876103 10.64855288]\n",
      " [ 5.25090808  2.35804398  8.34032209  8.44966926]] [[ 9.75143566  3.84868493  3.86817588  8.12189204]\n",
      " [ 9.9447623   1.39067255  8.66533763  2.37734304]\n",
      " [ 3.77478756 10.16065234  2.66790986  6.8106658 ]\n",
      " [ 8.21202613  9.90209879  9.57308764  5.49989852]]\n",
      "[[-6.59560864  2.72858792  2.69329839 -3.16110906]\n",
      " [-0.4436564   6.39788482 -4.90518411  2.29872208]\n",
      " [-2.02537376 -5.18281792  6.56085116  3.83788708]\n",
      " [-2.96111806 -7.54405481 -1.23276555  2.94977075]]\n"
     ]
    }
   ],
   "source": [
    "u = np.random.uniform(1, 11, size = (4, 4))\n",
    "v = np.random.uniform(1, 11, size = (4, 4))\n",
    "print(u, v)\n",
    "diff_u_v = u - v\n",
    "print(diff_u_v)"
   ]
  },
  {
   "cell_type": "code",
   "execution_count": 21,
   "metadata": {},
   "outputs": [
    {
     "name": "stdout",
     "output_type": "stream",
     "text": [
      "[[0.0608012  0.05594028 0.3009003 ]\n",
      " [0.52592066 0.91017737 0.61565244]\n",
      " [0.72246227 0.84032643 0.90566726]]\n",
      "[[0.41764178]\n",
      " [2.05175047]\n",
      " [2.46845597]]\n"
     ]
    }
   ],
   "source": [
    "a = np.random.uniform(0, 1 , size = (3, 3))\n",
    "print(a)\n",
    "sum_vector = np.sum(a, axis=1)\n",
    "e = sum_vector.reshape(-1, 1)\n",
    "print(e)"
   ]
  },
  {
   "cell_type": "code",
   "execution_count": 22,
   "metadata": {},
   "outputs": [
    {
     "name": "stdout",
     "output_type": "stream",
     "text": [
      "[[42505 99450 55546 20781]\n",
      " [82423 39657 24638 70427]\n",
      " [78965 33170  7434 12984]]\n",
      "[[ 1806675025  1300367908 -1209609180   431849961]\n",
      " [-1796383663  1572677649   607031044   664995033]\n",
      " [ 1940503929  1100248900    55264356   168584256]]\n"
     ]
    }
   ],
   "source": [
    "a = np.random.randint(0, 99999, size = (3, 4))\n",
    "print(a)\n",
    "b = a**2\n",
    "print(b)"
   ]
  },
  {
   "cell_type": "code",
   "execution_count": 23,
   "metadata": {},
   "outputs": [
    {
     "name": "stdout",
     "output_type": "stream",
     "text": [
      "[13 13 32 17]\n",
      "[3.60555128 3.60555128 5.65685425 4.12310563]\n"
     ]
    }
   ],
   "source": [
    "a = np.random.randint(1, 51, size = 4)\n",
    "print(a)\n",
    "b = np.sqrt(a)\n",
    "print(b)"
   ]
  }
 ],
 "metadata": {
  "kernelspec": {
   "display_name": "Python 3",
   "language": "python",
   "name": "python3"
  },
  "language_info": {
   "codemirror_mode": {
    "name": "ipython",
    "version": 3
   },
   "file_extension": ".py",
   "mimetype": "text/x-python",
   "name": "python",
   "nbconvert_exporter": "python",
   "pygments_lexer": "ipython3",
   "version": "3.12.0"
  }
 },
 "nbformat": 4,
 "nbformat_minor": 2
}
