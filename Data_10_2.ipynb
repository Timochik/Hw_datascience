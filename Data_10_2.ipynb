{
  "nbformat": 4,
  "nbformat_minor": 0,
  "metadata": {
    "colab": {
      "provenance": [],
      "authorship_tag": "ABX9TyM6S4y4V0hmeUwt+nMdJXsv",
      "include_colab_link": true
    },
    "kernelspec": {
      "name": "python3",
      "display_name": "Python 3"
    },
    "language_info": {
      "name": "python"
    }
  },
  "cells": [
    {
      "cell_type": "markdown",
      "metadata": {
        "id": "view-in-github",
        "colab_type": "text"
      },
      "source": [
        "<a href=\"https://colab.research.google.com/github/Timochik/Hw_datascience/blob/main/Data_10_2.ipynb\" target=\"_parent\"><img src=\"https://colab.research.google.com/assets/colab-badge.svg\" alt=\"Open In Colab\"/></a>"
      ]
    },
    {
      "cell_type": "code",
      "execution_count": 1,
      "metadata": {
        "id": "q05pKnroVkV0"
      },
      "outputs": [],
      "source": [
        "import tensorflow as tf\n",
        "from tensorflow.keras import layers, models\n",
        "from tensorflow.keras.applications import VGG16\n",
        "from tensorflow.keras.optimizers import Adam\n",
        "import matplotlib.pyplot as plt"
      ]
    },
    {
      "cell_type": "code",
      "source": [
        "# Завантажимо датасет Fashion MNIST\n",
        "fashion_mnist = tf.keras.datasets.fashion_mnist\n",
        "(X_train, y_train), (X_test, y_test) = fashion_mnist.load_data()"
      ],
      "metadata": {
        "colab": {
          "base_uri": "https://localhost:8080/"
        },
        "id": "hK6lXlOPV2Q5",
        "outputId": "3722a3a4-08da-4eba-e4c2-fcd916cfaccd"
      },
      "execution_count": 2,
      "outputs": [
        {
          "output_type": "stream",
          "name": "stdout",
          "text": [
            "Downloading data from https://storage.googleapis.com/tensorflow/tf-keras-datasets/train-labels-idx1-ubyte.gz\n",
            "\u001b[1m29515/29515\u001b[0m \u001b[32m━━━━━━━━━━━━━━━━━━━━\u001b[0m\u001b[37m\u001b[0m \u001b[1m0s\u001b[0m 0us/step\n",
            "Downloading data from https://storage.googleapis.com/tensorflow/tf-keras-datasets/train-images-idx3-ubyte.gz\n",
            "\u001b[1m26421880/26421880\u001b[0m \u001b[32m━━━━━━━━━━━━━━━━━━━━\u001b[0m\u001b[37m\u001b[0m \u001b[1m0s\u001b[0m 0us/step\n",
            "Downloading data from https://storage.googleapis.com/tensorflow/tf-keras-datasets/t10k-labels-idx1-ubyte.gz\n",
            "\u001b[1m5148/5148\u001b[0m \u001b[32m━━━━━━━━━━━━━━━━━━━━\u001b[0m\u001b[37m\u001b[0m \u001b[1m0s\u001b[0m 1us/step\n",
            "Downloading data from https://storage.googleapis.com/tensorflow/tf-keras-datasets/t10k-images-idx3-ubyte.gz\n",
            "\u001b[1m4422102/4422102\u001b[0m \u001b[32m━━━━━━━━━━━━━━━━━━━━\u001b[0m\u001b[37m\u001b[0m \u001b[1m0s\u001b[0m 0us/step\n"
          ]
        }
      ]
    },
    {
      "cell_type": "code",
      "source": [
        "# Перетворимо дані у формат, який підходить для VGG16\n",
        "X_train = X_train.reshape(X_train.shape[0], 28, 28, 1)\n",
        "X_test = X_test.reshape(X_test.shape[0], 28, 28, 1)"
      ],
      "metadata": {
        "id": "uwtyKtiiV5WF"
      },
      "execution_count": 3,
      "outputs": []
    },
    {
      "cell_type": "code",
      "source": [
        "# Щоб використати VGG16, треба змінити розмір зображень до 32x32 або 48x48, бо мінімальний розмір VGG16 - 32x32\n",
        "X_train = tf.image.resize(X_train, (48, 48))\n",
        "X_test = tf.image.resize(X_test, (48, 48))"
      ],
      "metadata": {
        "id": "rjfiKbLcV_gK"
      },
      "execution_count": 9,
      "outputs": []
    },
    {
      "cell_type": "code",
      "source": [
        "# Нормалізуємо дані\n",
        "X_train = tf.cast(X_train, tf.float32) / 255.0\n",
        "X_test = tf.cast(X_test, tf.float32) / 255.0"
      ],
      "metadata": {
        "id": "f4il__g9WFag"
      },
      "execution_count": 10,
      "outputs": []
    },
    {
      "cell_type": "code",
      "source": [
        "# Завантажимо попередньо навчену модель VGG16 без верхніх шарів\n",
        "vgg16_base = VGG16(weights='imagenet', include_top=False, input_shape=(48, 48, 3))"
      ],
      "metadata": {
        "colab": {
          "base_uri": "https://localhost:8080/"
        },
        "id": "r9KxlUqNWwMs",
        "outputId": "b7e78e5d-fa84-4a43-b933-a43282a7cc5b"
      },
      "execution_count": 11,
      "outputs": [
        {
          "output_type": "stream",
          "name": "stdout",
          "text": [
            "Downloading data from https://storage.googleapis.com/tensorflow/keras-applications/vgg16/vgg16_weights_tf_dim_ordering_tf_kernels_notop.h5\n",
            "\u001b[1m58889256/58889256\u001b[0m \u001b[32m━━━━━━━━━━━━━━━━━━━━\u001b[0m\u001b[37m\u001b[0m \u001b[1m0s\u001b[0m 0us/step\n"
          ]
        }
      ]
    },
    {
      "cell_type": "code",
      "source": [
        "# Заморозимо всі шари VGG16\n",
        "vgg16_base.trainable = False"
      ],
      "metadata": {
        "id": "5HhedeFAWzhr"
      },
      "execution_count": 12,
      "outputs": []
    },
    {
      "cell_type": "code",
      "source": [
        "# Побудуємо нову модель\n",
        "model = models.Sequential([\n",
        "    layers.Input(shape=(48, 48, 1)),\n",
        "\n",
        "    # Повторимо канали до 3 для сумісності з VGG16\n",
        "    layers.Conv2D(3, (3, 3), padding='same', activation='relu'),\n",
        "\n",
        "    # Додамо базу VGG16\n",
        "    vgg16_base,\n",
        "\n",
        "    # Додамо наші власні шари для класифікації\n",
        "    layers.Flatten(),\n",
        "    layers.Dense(128, activation='relu'),\n",
        "    layers.Dropout(0.5),\n",
        "    layers.Dense(10, activation='softmax')\n",
        "])"
      ],
      "metadata": {
        "id": "-KrRCE7EW2U5"
      },
      "execution_count": 13,
      "outputs": []
    },
    {
      "cell_type": "code",
      "source": [
        "# Скомпілюємо модель\n",
        "model.compile(optimizer=Adam(learning_rate=0.0001),  # Мала швидкість навчання\n",
        "              loss='sparse_categorical_crossentropy',\n",
        "              metrics=['accuracy'])\n"
      ],
      "metadata": {
        "id": "t7XQjn1hW5kR"
      },
      "execution_count": 14,
      "outputs": []
    },
    {
      "cell_type": "code",
      "source": [
        "# Навчання моделі\n",
        "history = model.fit(X_train, y_train, epochs=10, batch_size=32, validation_split=0.2)"
      ],
      "metadata": {
        "colab": {
          "base_uri": "https://localhost:8080/"
        },
        "id": "UB1_SPDEW83d",
        "outputId": "d065030d-0f4b-4ec3-eb7d-10aef455559b"
      },
      "execution_count": 16,
      "outputs": [
        {
          "output_type": "stream",
          "name": "stdout",
          "text": [
            "Epoch 1/10\n",
            "\u001b[1m   2/1500\u001b[0m \u001b[37m━━━━━━━━━━━━━━━━━━━━\u001b[0m \u001b[1m1:28:11\u001b[0m 4s/step - accuracy: 0.0859 - loss: 2.3411"
          ]
        },
        {
          "output_type": "stream",
          "name": "stderr",
          "text": [
            "\n",
            "KeyboardInterrupt\n",
            "\n"
          ]
        }
      ]
    },
    {
      "cell_type": "code",
      "source": [
        "# Оцінка моделі\n",
        "test_loss, test_acc = model.evaluate(X_test, y_test)\n",
        "print('\\nТочність на тестових даних:', test_acc)"
      ],
      "metadata": {
        "id": "c9xR4O9Ja6x4"
      },
      "execution_count": null,
      "outputs": []
    },
    {
      "cell_type": "code",
      "source": [
        "# Візуалізація результатів\n",
        "plt.plot(history.history['accuracy'], label='Точність на тренувальних даних')\n",
        "plt.plot(history.history['val_accuracy'], label = 'Точність на валідаційних даних')\n",
        "plt.xlabel('Епоха')\n",
        "plt.ylabel('Точність')\n",
        "plt.ylim([0.8, 1])\n",
        "plt.legend(loc='lower right')\n",
        "plt.show()\n"
      ],
      "metadata": {
        "id": "9kt0kT46a80E"
      },
      "execution_count": null,
      "outputs": []
    }
  ]
}